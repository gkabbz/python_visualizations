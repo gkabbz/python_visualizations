{
  "nbformat": 4,
  "nbformat_minor": 0,
  "metadata": {
    "colab": {
      "name": "Visualization Methods.ipynb",
      "provenance": [],
      "authorship_tag": "ABX9TyOj2lipzuFdw7pYwLHj+czd",
      "include_colab_link": true
    },
    "kernelspec": {
      "name": "python3",
      "display_name": "Python 3"
    }
  },
  "cells": [
    {
      "cell_type": "markdown",
      "metadata": {
        "id": "view-in-github",
        "colab_type": "text"
      },
      "source": [
        "<a href=\"https://colab.research.google.com/github/gkabbz/python_visualizations/blob/master/Visualization_Methods.ipynb\" target=\"_parent\"><img src=\"https://colab.research.google.com/assets/colab-badge.svg\" alt=\"Open In Colab\"/></a>"
      ]
    },
    {
      "cell_type": "markdown",
      "metadata": {
        "id": "Sdm5bJeToWKt",
        "colab_type": "text"
      },
      "source": [
        "This workbook is used to store visualization methods to make it easier / more efficient to fill requests on the fly"
      ]
    },
    {
      "cell_type": "code",
      "metadata": {
        "id": "rAW_tTfCn8Bn",
        "colab_type": "code",
        "colab": {
          "base_uri": "https://localhost:8080/",
          "height": 34
        },
        "outputId": "c428b67c-d6f8-49a7-a3a7-c6b05364c235"
      },
      "source": [
        "# Authenticate User\n",
        "from google.colab import auth\n",
        "auth.authenticate_user()\n",
        "print('Authenticated')"
      ],
      "execution_count": 1,
      "outputs": [
        {
          "output_type": "stream",
          "text": [
            "Authenticated\n"
          ],
          "name": "stdout"
        }
      ]
    },
    {
      "cell_type": "code",
      "metadata": {
        "id": "2XAp-skaoJ1V",
        "colab_type": "code",
        "colab": {}
      },
      "source": [
        "# Import Packages\n",
        "import pandas\n",
        "from google.cloud import bigquery\n",
        "import altair\n",
        "import plotnine"
      ],
      "execution_count": 0,
      "outputs": []
    },
    {
      "cell_type": "markdown",
      "metadata": {
        "id": "xivW9arSojgU",
        "colab_type": "text"
      },
      "source": [
        "# **HISTOGRAM**"
      ]
    },
    {
      "cell_type": "code",
      "metadata": {
        "id": "swvffQ0moneR",
        "colab_type": "code",
        "colab": {}
      },
      "source": [
        ""
      ],
      "execution_count": 0,
      "outputs": []
    }
  ]
}