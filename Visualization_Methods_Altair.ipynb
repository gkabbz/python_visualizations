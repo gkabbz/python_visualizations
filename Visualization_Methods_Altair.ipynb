{
  "nbformat": 4,
  "nbformat_minor": 0,
  "metadata": {
    "colab": {
      "name": "Visualization Methods - Altair.ipynb",
      "provenance": [],
      "authorship_tag": "ABX9TyMNeLboPzjbA0dORYWYcy+X",
      "include_colab_link": true
    },
    "kernelspec": {
      "name": "python3",
      "display_name": "Python 3"
    }
  },
  "cells": [
    {
      "cell_type": "markdown",
      "metadata": {
        "id": "view-in-github",
        "colab_type": "text"
      },
      "source": [
        "<a href=\"https://colab.research.google.com/github/gkabbz/python_visualizations/blob/master/Visualization_Methods_Altair.ipynb\" target=\"_parent\"><img src=\"https://colab.research.google.com/assets/colab-badge.svg\" alt=\"Open In Colab\"/></a>"
      ]
    },
    {
      "cell_type": "markdown",
      "metadata": {
        "id": "Sdm5bJeToWKt",
        "colab_type": "text"
      },
      "source": [
        "This workbook is used to store visualization methods to make it easier / more efficient to fill requests on the fly"
      ]
    },
    {
      "cell_type": "code",
      "metadata": {
        "id": "rAW_tTfCn8Bn",
        "colab_type": "code",
        "colab": {
          "base_uri": "https://localhost:8080/",
          "height": 34
        },
        "outputId": "c428b67c-d6f8-49a7-a3a7-c6b05364c235"
      },
      "source": [
        "# Authenticate User\n",
        "from google.colab import auth\n",
        "auth.authenticate_user()\n",
        "print('Authenticated')"
      ],
      "execution_count": 1,
      "outputs": [
        {
          "output_type": "stream",
          "text": [
            "Authenticated\n"
          ],
          "name": "stdout"
        }
      ]
    },
    {
      "cell_type": "code",
      "metadata": {
        "id": "2XAp-skaoJ1V",
        "colab_type": "code",
        "colab": {}
      },
      "source": [
        "# Import Packages\n",
        "import pandas\n",
        "from google.cloud import bigquery\n",
        "import altair\n",
        "import plotnine"
      ],
      "execution_count": 0,
      "outputs": []
    },
    {
      "cell_type": "markdown",
      "metadata": {
        "id": "xivW9arSojgU",
        "colab_type": "text"
      },
      "source": [
        "# **BAR CHARTS**"
      ]
    },
    {
      "cell_type": "code",
      "metadata": {
        "id": "swvffQ0moneR",
        "colab_type": "code",
        "colab": {
          "base_uri": "https://localhost:8080/",
          "height": 34
        },
        "outputId": "a364e572-33a0-47ab-9911-3a4d69dd1e37"
      },
      "source": [
        "client = bigquery.Client(project='moz-fx-data-bq-mkt-analytics')\n",
        "bike_usage = client.query('''\n",
        "WITH data as (\n",
        "SELECT\n",
        "  EXTRACT(DATE FROM starttime) as date,\n",
        "  bikeid\n",
        "FROM\n",
        "  `moz-fx-data-bq-mkt-analytics.gkabbz_newyork_citibike_play_data.citibike_trips`\n",
        "WHERE\n",
        "  EXTRACT(DATE FROM starttime) >= \"2017-12-17\"\n",
        "  AND EXTRACT(DATE FROM starttime) <= \"2018-01-13\"),\n",
        "  \n",
        "bike_days_used as (\n",
        "SELECT \n",
        "  bikeid,\n",
        "  COUNT(DISTINCT date) as days_active\n",
        "FROM\n",
        "  data\n",
        "GROUP BY \n",
        "  1)\n",
        "  \n",
        "SELECT\n",
        "days_active,\n",
        "COUNT(bikeid) as bikes\n",
        "FROM\n",
        "bike_days_used\n",
        "GROUP BY 1\n",
        "ORDER BY 1''').to_dataframe()\n"
      ],
      "execution_count": 7,
      "outputs": [
        {
          "output_type": "stream",
          "text": [
            "WARNING:google.auth._default:No project ID could be determined. Consider running `gcloud config set project` or setting the GOOGLE_CLOUD_PROJECT environment variable\n"
          ],
          "name": "stderr"
        }
      ]
    },
    {
      "cell_type": "code",
      "metadata": {
        "id": "6TVJIPsDuY2U",
        "colab_type": "code",
        "colab": {
          "base_uri": "https://localhost:8080/",
          "height": 369
        },
        "outputId": "482eed28-c44a-4a6b-9dc8-4c34aaf56789"
      },
      "source": [
        "import altair as alt\n",
        "import pandas as pd\n",
        "\n",
        "source = bike_usage\n",
        "\n",
        "alt.Chart(source).mark_bar(color='red').encode(\n",
        "    alt.X('days_active', title='Days Used'),\n",
        "    alt.Y('bikes', title=\"Bike Usage\")\n",
        ")"
      ],
      "execution_count": 23,
      "outputs": [
        {
          "output_type": "execute_result",
          "data": {
            "text/plain": [
              "alt.Chart(...)"
            ],
            "text/html": [
              "\n",
              "<div id=\"altair-viz-12\"></div>\n",
              "<script type=\"text/javascript\">\n",
              "  (function(spec, embedOpt){\n",
              "    const outputDiv = document.getElementById(\"altair-viz-12\");\n",
              "    const paths = {\n",
              "      \"vega\": \"https://cdn.jsdelivr.net/npm//vega@5?noext\",\n",
              "      \"vega-lib\": \"https://cdn.jsdelivr.net/npm//vega-lib?noext\",\n",
              "      \"vega-lite\": \"https://cdn.jsdelivr.net/npm//vega-lite@4.0.0?noext\",\n",
              "      \"vega-embed\": \"https://cdn.jsdelivr.net/npm//vega-embed@6?noext\",\n",
              "    };\n",
              "\n",
              "    function loadScript(lib) {\n",
              "      return new Promise(function(resolve, reject) {\n",
              "        var s = document.createElement('script');\n",
              "        s.src = paths[lib];\n",
              "        s.async = true;\n",
              "        s.onload = () => resolve(paths[lib]);\n",
              "        s.onerror = () => reject(`Error loading script: ${paths[lib]}`);\n",
              "        document.getElementsByTagName(\"head\")[0].appendChild(s);\n",
              "      });\n",
              "    }\n",
              "\n",
              "    function showError(err) {\n",
              "      outputDiv.innerHTML = `<div class=\"error\" style=\"color:red;\">${err}</div>`;\n",
              "      throw err;\n",
              "    }\n",
              "\n",
              "    function displayChart(vegaEmbed) {\n",
              "      vegaEmbed(outputDiv, spec, embedOpt)\n",
              "        .catch(err => showError(`Javascript Error: ${err.message}<br>This usually means there's a typo in your chart specification. See the javascript console for the full traceback.`));\n",
              "    }\n",
              "\n",
              "    if(typeof define === \"function\" && define.amd) {\n",
              "      requirejs.config({paths});\n",
              "      require([\"vega-embed\"], displayChart, err => showError(`Error loading script: ${err.message}`));\n",
              "    } else if (typeof vegaEmbed === \"function\") {\n",
              "      displayChart(vegaEmbed);\n",
              "    } else {\n",
              "      loadScript(\"vega\")\n",
              "        .then(() => loadScript(\"vega-lite\"))\n",
              "        .then(() => loadScript(\"vega-embed\"))\n",
              "        .catch(showError)\n",
              "        .then(() => displayChart(vegaEmbed));\n",
              "    }\n",
              "  })({\"config\": {\"view\": {\"continuousWidth\": 400, \"continuousHeight\": 300}}, \"data\": {\"name\": \"data-c1fd0e142ac97e2ba7e661507e36d9f7\"}, \"mark\": {\"type\": \"bar\", \"color\": \"red\"}, \"encoding\": {\"x\": {\"type\": \"quantitative\", \"field\": \"days_active\", \"title\": \"Days Used\"}, \"y\": {\"type\": \"quantitative\", \"field\": \"bikes\", \"title\": \"Bike Usage\"}}, \"$schema\": \"https://vega.github.io/schema/vega-lite/v4.0.0.json\", \"datasets\": {\"data-c1fd0e142ac97e2ba7e661507e36d9f7\": [{\"days_active\": 1, \"bikes\": 145}, {\"days_active\": 2, \"bikes\": 175}, {\"days_active\": 3, \"bikes\": 198}, {\"days_active\": 4, \"bikes\": 291}, {\"days_active\": 5, \"bikes\": 299}, {\"days_active\": 6, \"bikes\": 371}, {\"days_active\": 7, \"bikes\": 345}, {\"days_active\": 8, \"bikes\": 418}, {\"days_active\": 9, \"bikes\": 483}, {\"days_active\": 10, \"bikes\": 604}, {\"days_active\": 11, \"bikes\": 582}, {\"days_active\": 12, \"bikes\": 602}, {\"days_active\": 13, \"bikes\": 626}, {\"days_active\": 14, \"bikes\": 655}, {\"days_active\": 15, \"bikes\": 711}, {\"days_active\": 16, \"bikes\": 704}, {\"days_active\": 17, \"bikes\": 640}, {\"days_active\": 18, \"bikes\": 579}, {\"days_active\": 19, \"bikes\": 543}, {\"days_active\": 20, \"bikes\": 455}, {\"days_active\": 21, \"bikes\": 368}, {\"days_active\": 22, \"bikes\": 286}, {\"days_active\": 23, \"bikes\": 169}, {\"days_active\": 24, \"bikes\": 109}, {\"days_active\": 25, \"bikes\": 55}, {\"days_active\": 26, \"bikes\": 17}, {\"days_active\": 27, \"bikes\": 9}]}}, {\"mode\": \"vega-lite\"});\n",
              "</script>"
            ]
          },
          "metadata": {
            "tags": []
          },
          "execution_count": 23
        }
      ]
    },
    {
      "cell_type": "code",
      "metadata": {
        "id": "Y6mufErCwsrg",
        "colab_type": "code",
        "colab": {}
      },
      "source": [
        ""
      ],
      "execution_count": 0,
      "outputs": []
    }
  ]
}